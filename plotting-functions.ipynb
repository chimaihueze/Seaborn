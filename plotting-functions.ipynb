{
 "metadata": {
  "language_info": {
   "codemirror_mode": {
    "name": "ipython",
    "version": 3
   },
   "file_extension": ".py",
   "mimetype": "text/x-python",
   "name": "python",
   "nbconvert_exporter": "python",
   "pygments_lexer": "ipython3",
   "version": "3.9.1-final"
  },
  "orig_nbformat": 2,
  "kernelspec": {
   "name": "python391jvsc74a57bd057ae10df0ce81e929dd2c30a036359a892629e803d6b3728fc9d9d0d990384aa",
   "display_name": "Python 3.9.1 64-bit"
  },
  "metadata": {
   "interpreter": {
    "hash": "57ae10df0ce81e929dd2c30a036359a892629e803d6b3728fc9d9d0d990384aa"
   }
  }
 },
 "nbformat": 4,
 "nbformat_minor": 2,
 "cells": [
  {
   "cell_type": "code",
   "execution_count": null,
   "metadata": {},
   "outputs": [],
   "source": [
    "# Most of your interactions with seaborn will happen through a set of plotting functions.\n",
    "# The seaborn namespace is flat; all of the functionality is accessible at the top level.\n",
    "# But the code itself is hierarchically structured, with modules of functions that achieve similar visualization goals through different means.\n",
    "# Most of the docs are structured around these modules: you’ll encounter names like “relational”, “distributional”, and “categorical”."
   ]
  },
  {
   "cell_type": "code",
   "execution_count": null,
   "metadata": {},
   "outputs": [],
   "source": [
    "\n",
    "# DISTRIBUTION PLOTS\n",
    "\n",
    "# displot - Figure-level interface for drawing distribution plots onto a FacetGrid.\n",
    "\n",
    "# histplot - Plot univariate or bivariate histograms to show distributions of datasets.\n",
    "\n",
    "# kdeplot - Plot univariate or bivariate distributions using kernel density estimation.\n",
    "\n",
    "# ecdfplot - Plot empirical cumulative distribution functions.\n",
    "\n",
    "# rugplot - Plot marginal distributions by drawing ticks along the x and y axes.\n",
    "\n",
    "# distplot - DEPRECATED: Flexibly plot a univariate distribution of observations."
   ]
  },
  {
   "cell_type": "code",
   "execution_count": null,
   "metadata": {},
   "outputs": [],
   "source": [
    "# CATEGORICAL PLOTS\n",
    "\n",
    "# catplot - Figure-level interface for drawing categorical plots onto a FacetGrid.\n",
    "\n",
    "# stripplot - Draw a scatterplot where one variable is categorical.\n",
    "\n",
    "# swarmplot - Draw a categorical scatterplot with non-overlapping points.\n",
    "\n",
    "# boxplot - Draw a box plot to show distributions with respect to categories.\n",
    "\n",
    "# violinplot - Draw a combination of boxplot and kernel density estimate.\n",
    "\n",
    "# boxenplot - Draw an enhanced box plot for larger datasets.\n",
    "\n",
    "# pointplot - Show point estimates and confidence intervals using scatter plot glyphs.\n",
    "\n",
    "# barplot - Show point estimates and confidence intervals as rectangular bars.\n",
    "\n",
    "# countplot - Show the counts of observations in each categorical bin using bars."
   ]
  },
  {
   "cell_type": "code",
   "execution_count": null,
   "metadata": {},
   "outputs": [],
   "source": [
    "# REGRESSION PLOTS\n",
    "\n",
    "# lmplot - Plot data and regression model fits across a FacetGrid.\n",
    "\n",
    "# regplot - Plot data and a linear regression model fit.\n",
    "\n",
    "# residplot - Plot the residuals of a linear regression."
   ]
  },
  {
   "cell_type": "code",
   "execution_count": null,
   "metadata": {},
   "outputs": [],
   "source": [
    "# MATRIX PLOTS\n",
    "\n",
    "# heatmap - Plot rectangular data as a color-encoded matrix.\n",
    "\n",
    "# clustermap - Plot a matrix dataset as a hierarchically-clustered heatmap."
   ]
  },
  {
   "cell_type": "code",
   "execution_count": 1,
   "metadata": {},
   "outputs": [],
   "source": [
    "import seaborn as sns\n",
    "import matplotlib.pyplot as plt \n",
    "import numpy as np \n",
    "import pandas as pd"
   ]
  },
  {
   "cell_type": "code",
   "execution_count": 2,
   "metadata": {},
   "outputs": [
    {
     "output_type": "error",
     "ename": "AttributeError",
     "evalue": "module 'pandas' has no attribute 'read'",
     "traceback": [
      "\u001b[1;31m---------------------------------------------------------------------------\u001b[0m",
      "\u001b[1;31mAttributeError\u001b[0m                            Traceback (most recent call last)",
      "\u001b[1;32m<ipython-input-2-c6044767a0ec>\u001b[0m in \u001b[0;36m<module>\u001b[1;34m\u001b[0m\n\u001b[0;32m      1\u001b[0m \u001b[1;31m# Reading the iris dataset\u001b[0m\u001b[1;33m\u001b[0m\u001b[1;33m\u001b[0m\u001b[1;33m\u001b[0m\u001b[0m\n\u001b[1;32m----> 2\u001b[1;33m \u001b[0miris\u001b[0m \u001b[1;33m=\u001b[0m \u001b[0mpd\u001b[0m\u001b[1;33m.\u001b[0m\u001b[0mread\u001b[0m\u001b[1;33m(\u001b[0m\u001b[1;34m\"iris.csv\"\u001b[0m\u001b[1;33m)\u001b[0m\u001b[1;33m\u001b[0m\u001b[1;33m\u001b[0m\u001b[0m\n\u001b[0m",
      "\u001b[1;32m~\\AppData\\Local\\Programs\\Python\\Python39\\lib\\site-packages\\pandas\\__init__.py\u001b[0m in \u001b[0;36m__getattr__\u001b[1;34m(name)\u001b[0m\n\u001b[0;32m    242\u001b[0m         \u001b[1;32mreturn\u001b[0m \u001b[0m_SparseArray\u001b[0m\u001b[1;33m\u001b[0m\u001b[1;33m\u001b[0m\u001b[0m\n\u001b[0;32m    243\u001b[0m \u001b[1;33m\u001b[0m\u001b[0m\n\u001b[1;32m--> 244\u001b[1;33m     \u001b[1;32mraise\u001b[0m \u001b[0mAttributeError\u001b[0m\u001b[1;33m(\u001b[0m\u001b[1;34mf\"module 'pandas' has no attribute '{name}'\"\u001b[0m\u001b[1;33m)\u001b[0m\u001b[1;33m\u001b[0m\u001b[1;33m\u001b[0m\u001b[0m\n\u001b[0m\u001b[0;32m    245\u001b[0m \u001b[1;33m\u001b[0m\u001b[0m\n\u001b[0;32m    246\u001b[0m \u001b[1;33m\u001b[0m\u001b[0m\n",
      "\u001b[1;31mAttributeError\u001b[0m: module 'pandas' has no attribute 'read'"
     ]
    }
   ],
   "source": [
    "# Reading the iris dataset\n",
    "iris = pd.read_csv(\"iris.csv\")\n",
    "iris.head()"
   ]
  },
  {
   "cell_type": "code",
   "execution_count": null,
   "metadata": {},
   "outputs": [],
   "source": [
    "iris = sns.load_dataset(\"iris\")"
   ]
  },
  {
   "cell_type": "code",
   "execution_count": null,
   "metadata": {},
   "outputs": [],
   "source": []
  }
 ]
}